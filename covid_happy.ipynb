{
 "metadata": {
  "language_info": {
   "codemirror_mode": {
    "name": "ipython",
    "version": 3
   },
   "file_extension": ".py",
   "mimetype": "text/x-python",
   "name": "python",
   "nbconvert_exporter": "python",
   "pygments_lexer": "ipython3",
   "version": "3.6.10"
  },
  "orig_nbformat": 2,
  "kernelspec": {
   "name": "python3610jvsc74a57bd0b432461d0a0115d0c9d901da8da6cafa7da0264c25770543bb182d5a47b20b85",
   "display_name": "Python 3.6.10 64-bit ('PythonData': conda)"
  }
 },
 "nbformat": 4,
 "nbformat_minor": 2,
 "cells": [
  {
   "cell_type": "code",
   "execution_count": 18,
   "metadata": {},
   "outputs": [],
   "source": [
    "import pandas as pd\n",
    "from sqlalchemy import create_engine\n",
    "import datetime as dt"
   ]
  },
  {
   "source": [
    "### Extract CSVs into DataFrame"
   ],
   "cell_type": "markdown",
   "metadata": {}
  },
  {
   "cell_type": "code",
   "execution_count": 7,
   "metadata": {},
   "outputs": [
    {
     "output_type": "execute_result",
     "data": {
      "text/plain": [
       "             date     location  new_cases  new_deaths  total_cases  \\\n",
       "0      2020-02-24  Afghanistan        1.0         NaN          1.0   \n",
       "1      2020-02-25  Afghanistan        0.0         NaN          1.0   \n",
       "2      2020-02-26  Afghanistan        0.0         NaN          1.0   \n",
       "3      2020-02-27  Afghanistan        0.0         NaN          1.0   \n",
       "4      2020-02-28  Afghanistan        0.0         NaN          1.0   \n",
       "...           ...          ...        ...         ...          ...   \n",
       "89957  2021-05-28     Zimbabwe       64.0         0.0      38918.0   \n",
       "89958  2021-05-29     Zimbabwe       15.0         2.0      38933.0   \n",
       "89959  2021-05-30     Zimbabwe       11.0         0.0      38944.0   \n",
       "89960  2021-05-31     Zimbabwe       17.0         0.0      38961.0   \n",
       "89961  2021-06-01     Zimbabwe       37.0         5.0      38998.0   \n",
       "\n",
       "       total_deaths  weekly_cases  weekly_deaths  biweekly_cases  \\\n",
       "0               NaN           NaN            NaN             NaN   \n",
       "1               NaN           NaN            NaN             NaN   \n",
       "2               NaN           NaN            NaN             NaN   \n",
       "3               NaN           NaN            NaN             NaN   \n",
       "4               NaN           NaN            NaN             NaN   \n",
       "...             ...           ...            ...             ...   \n",
       "89957        1592.0         254.0            6.0           383.0   \n",
       "89958        1594.0         254.0            8.0           379.0   \n",
       "89959        1594.0         262.0            8.0           384.0   \n",
       "89960        1594.0         265.0            8.0           389.0   \n",
       "89961        1599.0         292.0           12.0           403.0   \n",
       "\n",
       "       biweekly_deaths  \n",
       "0                  NaN  \n",
       "1                  NaN  \n",
       "2                  NaN  \n",
       "3                  NaN  \n",
       "4                  NaN  \n",
       "...                ...  \n",
       "89957             10.0  \n",
       "89958             12.0  \n",
       "89959             12.0  \n",
       "89960             12.0  \n",
       "89961             16.0  \n",
       "\n",
       "[89962 rows x 10 columns]"
      ],
      "text/html": "<div>\n<style scoped>\n    .dataframe tbody tr th:only-of-type {\n        vertical-align: middle;\n    }\n\n    .dataframe tbody tr th {\n        vertical-align: top;\n    }\n\n    .dataframe thead th {\n        text-align: right;\n    }\n</style>\n<table border=\"1\" class=\"dataframe\">\n  <thead>\n    <tr style=\"text-align: right;\">\n      <th></th>\n      <th>date</th>\n      <th>location</th>\n      <th>new_cases</th>\n      <th>new_deaths</th>\n      <th>total_cases</th>\n      <th>total_deaths</th>\n      <th>weekly_cases</th>\n      <th>weekly_deaths</th>\n      <th>biweekly_cases</th>\n      <th>biweekly_deaths</th>\n    </tr>\n  </thead>\n  <tbody>\n    <tr>\n      <th>0</th>\n      <td>2020-02-24</td>\n      <td>Afghanistan</td>\n      <td>1.0</td>\n      <td>NaN</td>\n      <td>1.0</td>\n      <td>NaN</td>\n      <td>NaN</td>\n      <td>NaN</td>\n      <td>NaN</td>\n      <td>NaN</td>\n    </tr>\n    <tr>\n      <th>1</th>\n      <td>2020-02-25</td>\n      <td>Afghanistan</td>\n      <td>0.0</td>\n      <td>NaN</td>\n      <td>1.0</td>\n      <td>NaN</td>\n      <td>NaN</td>\n      <td>NaN</td>\n      <td>NaN</td>\n      <td>NaN</td>\n    </tr>\n    <tr>\n      <th>2</th>\n      <td>2020-02-26</td>\n      <td>Afghanistan</td>\n      <td>0.0</td>\n      <td>NaN</td>\n      <td>1.0</td>\n      <td>NaN</td>\n      <td>NaN</td>\n      <td>NaN</td>\n      <td>NaN</td>\n      <td>NaN</td>\n    </tr>\n    <tr>\n      <th>3</th>\n      <td>2020-02-27</td>\n      <td>Afghanistan</td>\n      <td>0.0</td>\n      <td>NaN</td>\n      <td>1.0</td>\n      <td>NaN</td>\n      <td>NaN</td>\n      <td>NaN</td>\n      <td>NaN</td>\n      <td>NaN</td>\n    </tr>\n    <tr>\n      <th>4</th>\n      <td>2020-02-28</td>\n      <td>Afghanistan</td>\n      <td>0.0</td>\n      <td>NaN</td>\n      <td>1.0</td>\n      <td>NaN</td>\n      <td>NaN</td>\n      <td>NaN</td>\n      <td>NaN</td>\n      <td>NaN</td>\n    </tr>\n    <tr>\n      <th>...</th>\n      <td>...</td>\n      <td>...</td>\n      <td>...</td>\n      <td>...</td>\n      <td>...</td>\n      <td>...</td>\n      <td>...</td>\n      <td>...</td>\n      <td>...</td>\n      <td>...</td>\n    </tr>\n    <tr>\n      <th>89957</th>\n      <td>2021-05-28</td>\n      <td>Zimbabwe</td>\n      <td>64.0</td>\n      <td>0.0</td>\n      <td>38918.0</td>\n      <td>1592.0</td>\n      <td>254.0</td>\n      <td>6.0</td>\n      <td>383.0</td>\n      <td>10.0</td>\n    </tr>\n    <tr>\n      <th>89958</th>\n      <td>2021-05-29</td>\n      <td>Zimbabwe</td>\n      <td>15.0</td>\n      <td>2.0</td>\n      <td>38933.0</td>\n      <td>1594.0</td>\n      <td>254.0</td>\n      <td>8.0</td>\n      <td>379.0</td>\n      <td>12.0</td>\n    </tr>\n    <tr>\n      <th>89959</th>\n      <td>2021-05-30</td>\n      <td>Zimbabwe</td>\n      <td>11.0</td>\n      <td>0.0</td>\n      <td>38944.0</td>\n      <td>1594.0</td>\n      <td>262.0</td>\n      <td>8.0</td>\n      <td>384.0</td>\n      <td>12.0</td>\n    </tr>\n    <tr>\n      <th>89960</th>\n      <td>2021-05-31</td>\n      <td>Zimbabwe</td>\n      <td>17.0</td>\n      <td>0.0</td>\n      <td>38961.0</td>\n      <td>1594.0</td>\n      <td>265.0</td>\n      <td>8.0</td>\n      <td>389.0</td>\n      <td>12.0</td>\n    </tr>\n    <tr>\n      <th>89961</th>\n      <td>2021-06-01</td>\n      <td>Zimbabwe</td>\n      <td>37.0</td>\n      <td>5.0</td>\n      <td>38998.0</td>\n      <td>1599.0</td>\n      <td>292.0</td>\n      <td>12.0</td>\n      <td>403.0</td>\n      <td>16.0</td>\n    </tr>\n  </tbody>\n</table>\n<p>89962 rows × 10 columns</p>\n</div>"
     },
     "metadata": {},
     "execution_count": 7
    }
   ],
   "source": [
    "csv_file = \"Resources/full_data.csv\"\n",
    "full_data_df = pd.read_csv(csv_file)\n",
    "full_data_df.head(None)"
   ]
  },
  {
   "cell_type": "code",
   "execution_count": 29,
   "metadata": {},
   "outputs": [
    {
     "output_type": "execute_result",
     "data": {
      "text/plain": [
       "  Country name Regional indicator  Ladder score  \\\n",
       "0      Finland     Western Europe         7.842   \n",
       "1      Denmark     Western Europe         7.620   \n",
       "2  Switzerland     Western Europe         7.571   \n",
       "3      Iceland     Western Europe         7.554   \n",
       "4  Netherlands     Western Europe         7.464   \n",
       "\n",
       "   Standard error of ladder score  upperwhisker  lowerwhisker  \\\n",
       "0                           0.032         7.904         7.780   \n",
       "1                           0.035         7.687         7.552   \n",
       "2                           0.036         7.643         7.500   \n",
       "3                           0.059         7.670         7.438   \n",
       "4                           0.027         7.518         7.410   \n",
       "\n",
       "   Logged GDP per capita  Social support  Healthy life expectancy  \\\n",
       "0                 10.775           0.954                     72.0   \n",
       "1                 10.933           0.954                     72.7   \n",
       "2                 11.117           0.942                     74.4   \n",
       "3                 10.878           0.983                     73.0   \n",
       "4                 10.932           0.942                     72.4   \n",
       "\n",
       "   Freedom to make life choices  Generosity  Perceptions of corruption  \\\n",
       "0                         0.949      -0.098                      0.186   \n",
       "1                         0.946       0.030                      0.179   \n",
       "2                         0.919       0.025                      0.292   \n",
       "3                         0.955       0.160                      0.673   \n",
       "4                         0.913       0.175                      0.338   \n",
       "\n",
       "   Ladder score in Dystopia  Explained by: Log GDP per capita  \\\n",
       "0                      2.43                             1.446   \n",
       "1                      2.43                             1.502   \n",
       "2                      2.43                             1.566   \n",
       "3                      2.43                             1.482   \n",
       "4                      2.43                             1.501   \n",
       "\n",
       "   Explained by: Social support  Explained by: Healthy life expectancy  \\\n",
       "0                         1.106                                  0.741   \n",
       "1                         1.108                                  0.763   \n",
       "2                         1.079                                  0.816   \n",
       "3                         1.172                                  0.772   \n",
       "4                         1.079                                  0.753   \n",
       "\n",
       "   Explained by: Freedom to make life choices  Explained by: Generosity  \\\n",
       "0                                       0.691                     0.124   \n",
       "1                                       0.686                     0.208   \n",
       "2                                       0.653                     0.204   \n",
       "3                                       0.698                     0.293   \n",
       "4                                       0.647                     0.302   \n",
       "\n",
       "   Explained by: Perceptions of corruption  Dystopia + residual  \n",
       "0                                    0.481                3.253  \n",
       "1                                    0.485                2.868  \n",
       "2                                    0.413                2.839  \n",
       "3                                    0.170                2.967  \n",
       "4                                    0.384                2.798  "
      ],
      "text/html": "<div>\n<style scoped>\n    .dataframe tbody tr th:only-of-type {\n        vertical-align: middle;\n    }\n\n    .dataframe tbody tr th {\n        vertical-align: top;\n    }\n\n    .dataframe thead th {\n        text-align: right;\n    }\n</style>\n<table border=\"1\" class=\"dataframe\">\n  <thead>\n    <tr style=\"text-align: right;\">\n      <th></th>\n      <th>Country name</th>\n      <th>Regional indicator</th>\n      <th>Ladder score</th>\n      <th>Standard error of ladder score</th>\n      <th>upperwhisker</th>\n      <th>lowerwhisker</th>\n      <th>Logged GDP per capita</th>\n      <th>Social support</th>\n      <th>Healthy life expectancy</th>\n      <th>Freedom to make life choices</th>\n      <th>Generosity</th>\n      <th>Perceptions of corruption</th>\n      <th>Ladder score in Dystopia</th>\n      <th>Explained by: Log GDP per capita</th>\n      <th>Explained by: Social support</th>\n      <th>Explained by: Healthy life expectancy</th>\n      <th>Explained by: Freedom to make life choices</th>\n      <th>Explained by: Generosity</th>\n      <th>Explained by: Perceptions of corruption</th>\n      <th>Dystopia + residual</th>\n    </tr>\n  </thead>\n  <tbody>\n    <tr>\n      <th>0</th>\n      <td>Finland</td>\n      <td>Western Europe</td>\n      <td>7.842</td>\n      <td>0.032</td>\n      <td>7.904</td>\n      <td>7.780</td>\n      <td>10.775</td>\n      <td>0.954</td>\n      <td>72.0</td>\n      <td>0.949</td>\n      <td>-0.098</td>\n      <td>0.186</td>\n      <td>2.43</td>\n      <td>1.446</td>\n      <td>1.106</td>\n      <td>0.741</td>\n      <td>0.691</td>\n      <td>0.124</td>\n      <td>0.481</td>\n      <td>3.253</td>\n    </tr>\n    <tr>\n      <th>1</th>\n      <td>Denmark</td>\n      <td>Western Europe</td>\n      <td>7.620</td>\n      <td>0.035</td>\n      <td>7.687</td>\n      <td>7.552</td>\n      <td>10.933</td>\n      <td>0.954</td>\n      <td>72.7</td>\n      <td>0.946</td>\n      <td>0.030</td>\n      <td>0.179</td>\n      <td>2.43</td>\n      <td>1.502</td>\n      <td>1.108</td>\n      <td>0.763</td>\n      <td>0.686</td>\n      <td>0.208</td>\n      <td>0.485</td>\n      <td>2.868</td>\n    </tr>\n    <tr>\n      <th>2</th>\n      <td>Switzerland</td>\n      <td>Western Europe</td>\n      <td>7.571</td>\n      <td>0.036</td>\n      <td>7.643</td>\n      <td>7.500</td>\n      <td>11.117</td>\n      <td>0.942</td>\n      <td>74.4</td>\n      <td>0.919</td>\n      <td>0.025</td>\n      <td>0.292</td>\n      <td>2.43</td>\n      <td>1.566</td>\n      <td>1.079</td>\n      <td>0.816</td>\n      <td>0.653</td>\n      <td>0.204</td>\n      <td>0.413</td>\n      <td>2.839</td>\n    </tr>\n    <tr>\n      <th>3</th>\n      <td>Iceland</td>\n      <td>Western Europe</td>\n      <td>7.554</td>\n      <td>0.059</td>\n      <td>7.670</td>\n      <td>7.438</td>\n      <td>10.878</td>\n      <td>0.983</td>\n      <td>73.0</td>\n      <td>0.955</td>\n      <td>0.160</td>\n      <td>0.673</td>\n      <td>2.43</td>\n      <td>1.482</td>\n      <td>1.172</td>\n      <td>0.772</td>\n      <td>0.698</td>\n      <td>0.293</td>\n      <td>0.170</td>\n      <td>2.967</td>\n    </tr>\n    <tr>\n      <th>4</th>\n      <td>Netherlands</td>\n      <td>Western Europe</td>\n      <td>7.464</td>\n      <td>0.027</td>\n      <td>7.518</td>\n      <td>7.410</td>\n      <td>10.932</td>\n      <td>0.942</td>\n      <td>72.4</td>\n      <td>0.913</td>\n      <td>0.175</td>\n      <td>0.338</td>\n      <td>2.43</td>\n      <td>1.501</td>\n      <td>1.079</td>\n      <td>0.753</td>\n      <td>0.647</td>\n      <td>0.302</td>\n      <td>0.384</td>\n      <td>2.798</td>\n    </tr>\n  </tbody>\n</table>\n</div>"
     },
     "metadata": {},
     "execution_count": 29
    }
   ],
   "source": [
    "world_2021_file = \"Resources/world-happiness-report-2021.csv\"\n",
    "world_2021_df = pd.read_csv(world_2021_file)\n",
    "world_2021_df.head()\n",
    "#Need to add year as column with rows indicating 2021"
   ]
  },
  {
   "cell_type": "code",
   "execution_count": null,
   "metadata": {},
   "outputs": [],
   "source": []
  },
  {
   "source": [
    "### Create new data with select columns"
   ],
   "cell_type": "markdown",
   "metadata": {}
  },
  {
   "cell_type": "code",
   "execution_count": 28,
   "metadata": {},
   "outputs": [
    {
     "output_type": "execute_result",
     "data": {
      "text/plain": [
       "             date       location  total_cases  total_deaths\n",
       "85181  2020-01-22  United States          1.0           NaN\n",
       "85182  2020-01-23  United States          1.0           NaN\n",
       "85183  2020-01-24  United States          2.0           NaN\n",
       "85184  2020-01-25  United States          2.0           NaN\n",
       "85185  2020-01-26  United States          5.0           NaN\n",
       "...           ...            ...          ...           ...\n",
       "85673  2021-05-28  United States   33242999.0      593976.0\n",
       "85674  2021-05-29  United States   33254998.0      594319.0\n",
       "85675  2021-05-30  United States   33261731.0      594443.0\n",
       "85676  2021-05-31  United States   33267507.0      594585.0\n",
       "85677  2021-06-01  United States   33290450.0      595223.0\n",
       "\n",
       "[497 rows x 4 columns]"
      ],
      "text/html": "<div>\n<style scoped>\n    .dataframe tbody tr th:only-of-type {\n        vertical-align: middle;\n    }\n\n    .dataframe tbody tr th {\n        vertical-align: top;\n    }\n\n    .dataframe thead th {\n        text-align: right;\n    }\n</style>\n<table border=\"1\" class=\"dataframe\">\n  <thead>\n    <tr style=\"text-align: right;\">\n      <th></th>\n      <th>date</th>\n      <th>location</th>\n      <th>total_cases</th>\n      <th>total_deaths</th>\n    </tr>\n  </thead>\n  <tbody>\n    <tr>\n      <th>85181</th>\n      <td>2020-01-22</td>\n      <td>United States</td>\n      <td>1.0</td>\n      <td>NaN</td>\n    </tr>\n    <tr>\n      <th>85182</th>\n      <td>2020-01-23</td>\n      <td>United States</td>\n      <td>1.0</td>\n      <td>NaN</td>\n    </tr>\n    <tr>\n      <th>85183</th>\n      <td>2020-01-24</td>\n      <td>United States</td>\n      <td>2.0</td>\n      <td>NaN</td>\n    </tr>\n    <tr>\n      <th>85184</th>\n      <td>2020-01-25</td>\n      <td>United States</td>\n      <td>2.0</td>\n      <td>NaN</td>\n    </tr>\n    <tr>\n      <th>85185</th>\n      <td>2020-01-26</td>\n      <td>United States</td>\n      <td>5.0</td>\n      <td>NaN</td>\n    </tr>\n    <tr>\n      <th>...</th>\n      <td>...</td>\n      <td>...</td>\n      <td>...</td>\n      <td>...</td>\n    </tr>\n    <tr>\n      <th>85673</th>\n      <td>2021-05-28</td>\n      <td>United States</td>\n      <td>33242999.0</td>\n      <td>593976.0</td>\n    </tr>\n    <tr>\n      <th>85674</th>\n      <td>2021-05-29</td>\n      <td>United States</td>\n      <td>33254998.0</td>\n      <td>594319.0</td>\n    </tr>\n    <tr>\n      <th>85675</th>\n      <td>2021-05-30</td>\n      <td>United States</td>\n      <td>33261731.0</td>\n      <td>594443.0</td>\n    </tr>\n    <tr>\n      <th>85676</th>\n      <td>2021-05-31</td>\n      <td>United States</td>\n      <td>33267507.0</td>\n      <td>594585.0</td>\n    </tr>\n    <tr>\n      <th>85677</th>\n      <td>2021-06-01</td>\n      <td>United States</td>\n      <td>33290450.0</td>\n      <td>595223.0</td>\n    </tr>\n  </tbody>\n</table>\n<p>497 rows × 4 columns</p>\n</div>"
     },
     "metadata": {},
     "execution_count": 28
    }
   ],
   "source": [
    "new_full_data_df = full_data_df[['date','location','total_cases','total_deaths']]\n",
    "new_full_data_df.loc[(new_full_data_df.location == 'United States'), ['date','location','total_cases','total_deaths']]\n",
    "#new_full_data_df['year'] = new_full_data_df['date'].dt.year\n"
   ]
  },
  {
   "source": [
    "### Clean Dates"
   ],
   "cell_type": "markdown",
   "metadata": {}
  },
  {
   "cell_type": "code",
   "execution_count": null,
   "metadata": {},
   "outputs": [],
   "source": [
    "new_full_data_df = new_full_data_df['total_deaths'].fillna(0)"
   ]
  }
 ]
}