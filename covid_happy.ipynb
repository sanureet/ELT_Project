{
 "metadata": {
  "language_info": {
   "codemirror_mode": {
    "name": "ipython",
    "version": 3
   },
   "file_extension": ".py",
   "mimetype": "text/x-python",
   "name": "python",
   "nbconvert_exporter": "python",
   "pygments_lexer": "ipython3",
   "version": "3.6.10"
  },
  "orig_nbformat": 2,
  "kernelspec": {
   "name": "python3610jvsc74a57bd0b432461d0a0115d0c9d901da8da6cafa7da0264c25770543bb182d5a47b20b85",
   "display_name": "Python 3.6.10 64-bit ('PythonData': conda)"
  }
 },
 "nbformat": 4,
 "nbformat_minor": 2,
 "cells": [
  {
   "cell_type": "code",
   "execution_count": 2,
   "metadata": {},
   "outputs": [],
   "source": [
    "import pandas as pd\n",
    "from sqlalchemy import create_engine\n",
    "from datetime import datetime as dt"
   ]
  },
  {
   "source": [
    "### Extract CSVs into DataFrame"
   ],
   "cell_type": "markdown",
   "metadata": {}
  },
  {
   "cell_type": "code",
   "execution_count": 3,
   "metadata": {},
   "outputs": [
    {
     "output_type": "execute_result",
     "data": {
      "text/plain": [
       "             date     location  new_cases  new_deaths  total_cases  \\\n",
       "0      2020-02-24  Afghanistan        1.0         NaN          1.0   \n",
       "1      2020-02-25  Afghanistan        0.0         NaN          1.0   \n",
       "2      2020-02-26  Afghanistan        0.0         NaN          1.0   \n",
       "3      2020-02-27  Afghanistan        0.0         NaN          1.0   \n",
       "4      2020-02-28  Afghanistan        0.0         NaN          1.0   \n",
       "...           ...          ...        ...         ...          ...   \n",
       "89957  2021-05-28     Zimbabwe       64.0         0.0      38918.0   \n",
       "89958  2021-05-29     Zimbabwe       15.0         2.0      38933.0   \n",
       "89959  2021-05-30     Zimbabwe       11.0         0.0      38944.0   \n",
       "89960  2021-05-31     Zimbabwe       17.0         0.0      38961.0   \n",
       "89961  2021-06-01     Zimbabwe       37.0         5.0      38998.0   \n",
       "\n",
       "       total_deaths  weekly_cases  weekly_deaths  biweekly_cases  \\\n",
       "0               NaN           NaN            NaN             NaN   \n",
       "1               NaN           NaN            NaN             NaN   \n",
       "2               NaN           NaN            NaN             NaN   \n",
       "3               NaN           NaN            NaN             NaN   \n",
       "4               NaN           NaN            NaN             NaN   \n",
       "...             ...           ...            ...             ...   \n",
       "89957        1592.0         254.0            6.0           383.0   \n",
       "89958        1594.0         254.0            8.0           379.0   \n",
       "89959        1594.0         262.0            8.0           384.0   \n",
       "89960        1594.0         265.0            8.0           389.0   \n",
       "89961        1599.0         292.0           12.0           403.0   \n",
       "\n",
       "       biweekly_deaths  \n",
       "0                  NaN  \n",
       "1                  NaN  \n",
       "2                  NaN  \n",
       "3                  NaN  \n",
       "4                  NaN  \n",
       "...                ...  \n",
       "89957             10.0  \n",
       "89958             12.0  \n",
       "89959             12.0  \n",
       "89960             12.0  \n",
       "89961             16.0  \n",
       "\n",
       "[89962 rows x 10 columns]"
      ],
      "text/html": "<div>\n<style scoped>\n    .dataframe tbody tr th:only-of-type {\n        vertical-align: middle;\n    }\n\n    .dataframe tbody tr th {\n        vertical-align: top;\n    }\n\n    .dataframe thead th {\n        text-align: right;\n    }\n</style>\n<table border=\"1\" class=\"dataframe\">\n  <thead>\n    <tr style=\"text-align: right;\">\n      <th></th>\n      <th>date</th>\n      <th>location</th>\n      <th>new_cases</th>\n      <th>new_deaths</th>\n      <th>total_cases</th>\n      <th>total_deaths</th>\n      <th>weekly_cases</th>\n      <th>weekly_deaths</th>\n      <th>biweekly_cases</th>\n      <th>biweekly_deaths</th>\n    </tr>\n  </thead>\n  <tbody>\n    <tr>\n      <th>0</th>\n      <td>2020-02-24</td>\n      <td>Afghanistan</td>\n      <td>1.0</td>\n      <td>NaN</td>\n      <td>1.0</td>\n      <td>NaN</td>\n      <td>NaN</td>\n      <td>NaN</td>\n      <td>NaN</td>\n      <td>NaN</td>\n    </tr>\n    <tr>\n      <th>1</th>\n      <td>2020-02-25</td>\n      <td>Afghanistan</td>\n      <td>0.0</td>\n      <td>NaN</td>\n      <td>1.0</td>\n      <td>NaN</td>\n      <td>NaN</td>\n      <td>NaN</td>\n      <td>NaN</td>\n      <td>NaN</td>\n    </tr>\n    <tr>\n      <th>2</th>\n      <td>2020-02-26</td>\n      <td>Afghanistan</td>\n      <td>0.0</td>\n      <td>NaN</td>\n      <td>1.0</td>\n      <td>NaN</td>\n      <td>NaN</td>\n      <td>NaN</td>\n      <td>NaN</td>\n      <td>NaN</td>\n    </tr>\n    <tr>\n      <th>3</th>\n      <td>2020-02-27</td>\n      <td>Afghanistan</td>\n      <td>0.0</td>\n      <td>NaN</td>\n      <td>1.0</td>\n      <td>NaN</td>\n      <td>NaN</td>\n      <td>NaN</td>\n      <td>NaN</td>\n      <td>NaN</td>\n    </tr>\n    <tr>\n      <th>4</th>\n      <td>2020-02-28</td>\n      <td>Afghanistan</td>\n      <td>0.0</td>\n      <td>NaN</td>\n      <td>1.0</td>\n      <td>NaN</td>\n      <td>NaN</td>\n      <td>NaN</td>\n      <td>NaN</td>\n      <td>NaN</td>\n    </tr>\n    <tr>\n      <th>...</th>\n      <td>...</td>\n      <td>...</td>\n      <td>...</td>\n      <td>...</td>\n      <td>...</td>\n      <td>...</td>\n      <td>...</td>\n      <td>...</td>\n      <td>...</td>\n      <td>...</td>\n    </tr>\n    <tr>\n      <th>89957</th>\n      <td>2021-05-28</td>\n      <td>Zimbabwe</td>\n      <td>64.0</td>\n      <td>0.0</td>\n      <td>38918.0</td>\n      <td>1592.0</td>\n      <td>254.0</td>\n      <td>6.0</td>\n      <td>383.0</td>\n      <td>10.0</td>\n    </tr>\n    <tr>\n      <th>89958</th>\n      <td>2021-05-29</td>\n      <td>Zimbabwe</td>\n      <td>15.0</td>\n      <td>2.0</td>\n      <td>38933.0</td>\n      <td>1594.0</td>\n      <td>254.0</td>\n      <td>8.0</td>\n      <td>379.0</td>\n      <td>12.0</td>\n    </tr>\n    <tr>\n      <th>89959</th>\n      <td>2021-05-30</td>\n      <td>Zimbabwe</td>\n      <td>11.0</td>\n      <td>0.0</td>\n      <td>38944.0</td>\n      <td>1594.0</td>\n      <td>262.0</td>\n      <td>8.0</td>\n      <td>384.0</td>\n      <td>12.0</td>\n    </tr>\n    <tr>\n      <th>89960</th>\n      <td>2021-05-31</td>\n      <td>Zimbabwe</td>\n      <td>17.0</td>\n      <td>0.0</td>\n      <td>38961.0</td>\n      <td>1594.0</td>\n      <td>265.0</td>\n      <td>8.0</td>\n      <td>389.0</td>\n      <td>12.0</td>\n    </tr>\n    <tr>\n      <th>89961</th>\n      <td>2021-06-01</td>\n      <td>Zimbabwe</td>\n      <td>37.0</td>\n      <td>5.0</td>\n      <td>38998.0</td>\n      <td>1599.0</td>\n      <td>292.0</td>\n      <td>12.0</td>\n      <td>403.0</td>\n      <td>16.0</td>\n    </tr>\n  </tbody>\n</table>\n<p>89962 rows × 10 columns</p>\n</div>"
     },
     "metadata": {},
     "execution_count": 3
    }
   ],
   "source": [
    "csv_file = \"Resources/full_data.csv\"\n",
    "full_data_df = pd.read_csv(csv_file)\n",
    "full_data_df.head(None)"
   ]
  },
  {
   "cell_type": "code",
   "execution_count": 4,
   "metadata": {},
   "outputs": [
    {
     "output_type": "execute_result",
     "data": {
      "text/plain": [
       "    Country name  Regional indicator  Ladder score  \\\n",
       "0        Finland      Western Europe         7.842   \n",
       "1        Denmark      Western Europe         7.620   \n",
       "2    Switzerland      Western Europe         7.571   \n",
       "3        Iceland      Western Europe         7.554   \n",
       "4    Netherlands      Western Europe         7.464   \n",
       "..           ...                 ...           ...   \n",
       "144      Lesotho  Sub-Saharan Africa         3.512   \n",
       "145     Botswana  Sub-Saharan Africa         3.467   \n",
       "146       Rwanda  Sub-Saharan Africa         3.415   \n",
       "147     Zimbabwe  Sub-Saharan Africa         3.145   \n",
       "148  Afghanistan          South Asia         2.523   \n",
       "\n",
       "     Standard error of ladder score  upperwhisker  lowerwhisker  \\\n",
       "0                             0.032         7.904         7.780   \n",
       "1                             0.035         7.687         7.552   \n",
       "2                             0.036         7.643         7.500   \n",
       "3                             0.059         7.670         7.438   \n",
       "4                             0.027         7.518         7.410   \n",
       "..                              ...           ...           ...   \n",
       "144                           0.120         3.748         3.276   \n",
       "145                           0.074         3.611         3.322   \n",
       "146                           0.068         3.548         3.282   \n",
       "147                           0.058         3.259         3.030   \n",
       "148                           0.038         2.596         2.449   \n",
       "\n",
       "     Logged GDP per capita  Social support  Healthy life expectancy  \\\n",
       "0                   10.775           0.954                   72.000   \n",
       "1                   10.933           0.954                   72.700   \n",
       "2                   11.117           0.942                   74.400   \n",
       "3                   10.878           0.983                   73.000   \n",
       "4                   10.932           0.942                   72.400   \n",
       "..                     ...             ...                      ...   \n",
       "144                  7.926           0.787                   48.700   \n",
       "145                  9.782           0.784                   59.269   \n",
       "146                  7.676           0.552                   61.400   \n",
       "147                  7.943           0.750                   56.201   \n",
       "148                  7.695           0.463                   52.493   \n",
       "\n",
       "     Freedom to make life choices  Generosity  Perceptions of corruption  \\\n",
       "0                           0.949      -0.098                      0.186   \n",
       "1                           0.946       0.030                      0.179   \n",
       "2                           0.919       0.025                      0.292   \n",
       "3                           0.955       0.160                      0.673   \n",
       "4                           0.913       0.175                      0.338   \n",
       "..                            ...         ...                        ...   \n",
       "144                         0.715      -0.131                      0.915   \n",
       "145                         0.824      -0.246                      0.801   \n",
       "146                         0.897       0.061                      0.167   \n",
       "147                         0.677      -0.047                      0.821   \n",
       "148                         0.382      -0.102                      0.924   \n",
       "\n",
       "     Ladder score in Dystopia  Explained by: Log GDP per capita  \\\n",
       "0                        2.43                             1.446   \n",
       "1                        2.43                             1.502   \n",
       "2                        2.43                             1.566   \n",
       "3                        2.43                             1.482   \n",
       "4                        2.43                             1.501   \n",
       "..                        ...                               ...   \n",
       "144                      2.43                             0.451   \n",
       "145                      2.43                             1.099   \n",
       "146                      2.43                             0.364   \n",
       "147                      2.43                             0.457   \n",
       "148                      2.43                             0.370   \n",
       "\n",
       "     Explained by: Social support  Explained by: Healthy life expectancy  \\\n",
       "0                           1.106                                  0.741   \n",
       "1                           1.108                                  0.763   \n",
       "2                           1.079                                  0.816   \n",
       "3                           1.172                                  0.772   \n",
       "4                           1.079                                  0.753   \n",
       "..                            ...                                    ...   \n",
       "144                         0.731                                  0.007   \n",
       "145                         0.724                                  0.340   \n",
       "146                         0.202                                  0.407   \n",
       "147                         0.649                                  0.243   \n",
       "148                         0.000                                  0.126   \n",
       "\n",
       "     Explained by: Freedom to make life choices  Explained by: Generosity  \\\n",
       "0                                         0.691                     0.124   \n",
       "1                                         0.686                     0.208   \n",
       "2                                         0.653                     0.204   \n",
       "3                                         0.698                     0.293   \n",
       "4                                         0.647                     0.302   \n",
       "..                                          ...                       ...   \n",
       "144                                       0.405                     0.103   \n",
       "145                                       0.539                     0.027   \n",
       "146                                       0.627                     0.227   \n",
       "147                                       0.359                     0.157   \n",
       "148                                       0.000                     0.122   \n",
       "\n",
       "     Explained by: Perceptions of corruption  Dystopia + residual  \n",
       "0                                      0.481                3.253  \n",
       "1                                      0.485                2.868  \n",
       "2                                      0.413                2.839  \n",
       "3                                      0.170                2.967  \n",
       "4                                      0.384                2.798  \n",
       "..                                       ...                  ...  \n",
       "144                                    0.015                1.800  \n",
       "145                                    0.088                0.648  \n",
       "146                                    0.493                1.095  \n",
       "147                                    0.075                1.205  \n",
       "148                                    0.010                1.895  \n",
       "\n",
       "[149 rows x 20 columns]"
      ],
      "text/html": "<div>\n<style scoped>\n    .dataframe tbody tr th:only-of-type {\n        vertical-align: middle;\n    }\n\n    .dataframe tbody tr th {\n        vertical-align: top;\n    }\n\n    .dataframe thead th {\n        text-align: right;\n    }\n</style>\n<table border=\"1\" class=\"dataframe\">\n  <thead>\n    <tr style=\"text-align: right;\">\n      <th></th>\n      <th>Country name</th>\n      <th>Regional indicator</th>\n      <th>Ladder score</th>\n      <th>Standard error of ladder score</th>\n      <th>upperwhisker</th>\n      <th>lowerwhisker</th>\n      <th>Logged GDP per capita</th>\n      <th>Social support</th>\n      <th>Healthy life expectancy</th>\n      <th>Freedom to make life choices</th>\n      <th>Generosity</th>\n      <th>Perceptions of corruption</th>\n      <th>Ladder score in Dystopia</th>\n      <th>Explained by: Log GDP per capita</th>\n      <th>Explained by: Social support</th>\n      <th>Explained by: Healthy life expectancy</th>\n      <th>Explained by: Freedom to make life choices</th>\n      <th>Explained by: Generosity</th>\n      <th>Explained by: Perceptions of corruption</th>\n      <th>Dystopia + residual</th>\n    </tr>\n  </thead>\n  <tbody>\n    <tr>\n      <th>0</th>\n      <td>Finland</td>\n      <td>Western Europe</td>\n      <td>7.842</td>\n      <td>0.032</td>\n      <td>7.904</td>\n      <td>7.780</td>\n      <td>10.775</td>\n      <td>0.954</td>\n      <td>72.000</td>\n      <td>0.949</td>\n      <td>-0.098</td>\n      <td>0.186</td>\n      <td>2.43</td>\n      <td>1.446</td>\n      <td>1.106</td>\n      <td>0.741</td>\n      <td>0.691</td>\n      <td>0.124</td>\n      <td>0.481</td>\n      <td>3.253</td>\n    </tr>\n    <tr>\n      <th>1</th>\n      <td>Denmark</td>\n      <td>Western Europe</td>\n      <td>7.620</td>\n      <td>0.035</td>\n      <td>7.687</td>\n      <td>7.552</td>\n      <td>10.933</td>\n      <td>0.954</td>\n      <td>72.700</td>\n      <td>0.946</td>\n      <td>0.030</td>\n      <td>0.179</td>\n      <td>2.43</td>\n      <td>1.502</td>\n      <td>1.108</td>\n      <td>0.763</td>\n      <td>0.686</td>\n      <td>0.208</td>\n      <td>0.485</td>\n      <td>2.868</td>\n    </tr>\n    <tr>\n      <th>2</th>\n      <td>Switzerland</td>\n      <td>Western Europe</td>\n      <td>7.571</td>\n      <td>0.036</td>\n      <td>7.643</td>\n      <td>7.500</td>\n      <td>11.117</td>\n      <td>0.942</td>\n      <td>74.400</td>\n      <td>0.919</td>\n      <td>0.025</td>\n      <td>0.292</td>\n      <td>2.43</td>\n      <td>1.566</td>\n      <td>1.079</td>\n      <td>0.816</td>\n      <td>0.653</td>\n      <td>0.204</td>\n      <td>0.413</td>\n      <td>2.839</td>\n    </tr>\n    <tr>\n      <th>3</th>\n      <td>Iceland</td>\n      <td>Western Europe</td>\n      <td>7.554</td>\n      <td>0.059</td>\n      <td>7.670</td>\n      <td>7.438</td>\n      <td>10.878</td>\n      <td>0.983</td>\n      <td>73.000</td>\n      <td>0.955</td>\n      <td>0.160</td>\n      <td>0.673</td>\n      <td>2.43</td>\n      <td>1.482</td>\n      <td>1.172</td>\n      <td>0.772</td>\n      <td>0.698</td>\n      <td>0.293</td>\n      <td>0.170</td>\n      <td>2.967</td>\n    </tr>\n    <tr>\n      <th>4</th>\n      <td>Netherlands</td>\n      <td>Western Europe</td>\n      <td>7.464</td>\n      <td>0.027</td>\n      <td>7.518</td>\n      <td>7.410</td>\n      <td>10.932</td>\n      <td>0.942</td>\n      <td>72.400</td>\n      <td>0.913</td>\n      <td>0.175</td>\n      <td>0.338</td>\n      <td>2.43</td>\n      <td>1.501</td>\n      <td>1.079</td>\n      <td>0.753</td>\n      <td>0.647</td>\n      <td>0.302</td>\n      <td>0.384</td>\n      <td>2.798</td>\n    </tr>\n    <tr>\n      <th>...</th>\n      <td>...</td>\n      <td>...</td>\n      <td>...</td>\n      <td>...</td>\n      <td>...</td>\n      <td>...</td>\n      <td>...</td>\n      <td>...</td>\n      <td>...</td>\n      <td>...</td>\n      <td>...</td>\n      <td>...</td>\n      <td>...</td>\n      <td>...</td>\n      <td>...</td>\n      <td>...</td>\n      <td>...</td>\n      <td>...</td>\n      <td>...</td>\n      <td>...</td>\n    </tr>\n    <tr>\n      <th>144</th>\n      <td>Lesotho</td>\n      <td>Sub-Saharan Africa</td>\n      <td>3.512</td>\n      <td>0.120</td>\n      <td>3.748</td>\n      <td>3.276</td>\n      <td>7.926</td>\n      <td>0.787</td>\n      <td>48.700</td>\n      <td>0.715</td>\n      <td>-0.131</td>\n      <td>0.915</td>\n      <td>2.43</td>\n      <td>0.451</td>\n      <td>0.731</td>\n      <td>0.007</td>\n      <td>0.405</td>\n      <td>0.103</td>\n      <td>0.015</td>\n      <td>1.800</td>\n    </tr>\n    <tr>\n      <th>145</th>\n      <td>Botswana</td>\n      <td>Sub-Saharan Africa</td>\n      <td>3.467</td>\n      <td>0.074</td>\n      <td>3.611</td>\n      <td>3.322</td>\n      <td>9.782</td>\n      <td>0.784</td>\n      <td>59.269</td>\n      <td>0.824</td>\n      <td>-0.246</td>\n      <td>0.801</td>\n      <td>2.43</td>\n      <td>1.099</td>\n      <td>0.724</td>\n      <td>0.340</td>\n      <td>0.539</td>\n      <td>0.027</td>\n      <td>0.088</td>\n      <td>0.648</td>\n    </tr>\n    <tr>\n      <th>146</th>\n      <td>Rwanda</td>\n      <td>Sub-Saharan Africa</td>\n      <td>3.415</td>\n      <td>0.068</td>\n      <td>3.548</td>\n      <td>3.282</td>\n      <td>7.676</td>\n      <td>0.552</td>\n      <td>61.400</td>\n      <td>0.897</td>\n      <td>0.061</td>\n      <td>0.167</td>\n      <td>2.43</td>\n      <td>0.364</td>\n      <td>0.202</td>\n      <td>0.407</td>\n      <td>0.627</td>\n      <td>0.227</td>\n      <td>0.493</td>\n      <td>1.095</td>\n    </tr>\n    <tr>\n      <th>147</th>\n      <td>Zimbabwe</td>\n      <td>Sub-Saharan Africa</td>\n      <td>3.145</td>\n      <td>0.058</td>\n      <td>3.259</td>\n      <td>3.030</td>\n      <td>7.943</td>\n      <td>0.750</td>\n      <td>56.201</td>\n      <td>0.677</td>\n      <td>-0.047</td>\n      <td>0.821</td>\n      <td>2.43</td>\n      <td>0.457</td>\n      <td>0.649</td>\n      <td>0.243</td>\n      <td>0.359</td>\n      <td>0.157</td>\n      <td>0.075</td>\n      <td>1.205</td>\n    </tr>\n    <tr>\n      <th>148</th>\n      <td>Afghanistan</td>\n      <td>South Asia</td>\n      <td>2.523</td>\n      <td>0.038</td>\n      <td>2.596</td>\n      <td>2.449</td>\n      <td>7.695</td>\n      <td>0.463</td>\n      <td>52.493</td>\n      <td>0.382</td>\n      <td>-0.102</td>\n      <td>0.924</td>\n      <td>2.43</td>\n      <td>0.370</td>\n      <td>0.000</td>\n      <td>0.126</td>\n      <td>0.000</td>\n      <td>0.122</td>\n      <td>0.010</td>\n      <td>1.895</td>\n    </tr>\n  </tbody>\n</table>\n<p>149 rows × 20 columns</p>\n</div>"
     },
     "metadata": {},
     "execution_count": 4
    }
   ],
   "source": [
    "world_2021_file = \"Resources/world-happiness-report-2021.csv\"\n",
    "world_2021_df = pd.read_csv(world_2021_file)\n",
    "world_2021_df.head(None)\n",
    "#Need to add year as column with rows indicating 2021\n",
    "#Filter by US only\n",
    "#Columns will be: Healthy Life Expectency, Freedom, "
   ]
  },
  {
   "cell_type": "code",
   "execution_count": 9,
   "metadata": {},
   "outputs": [
    {
     "output_type": "execute_result",
     "data": {
      "text/plain": [
       "  Country name  year  Life Ladder  Log GDP per capita  Social support  \\\n",
       "0  Afghanistan  2008        3.724               7.370           0.451   \n",
       "1  Afghanistan  2009        4.402               7.540           0.552   \n",
       "2  Afghanistan  2010        4.758               7.647           0.539   \n",
       "3  Afghanistan  2011        3.832               7.620           0.521   \n",
       "4  Afghanistan  2012        3.783               7.705           0.521   \n",
       "\n",
       "   Healthy life expectancy at birth  Freedom to make life choices  Generosity  \\\n",
       "0                             50.80                         0.718       0.168   \n",
       "1                             51.20                         0.679       0.190   \n",
       "2                             51.60                         0.600       0.121   \n",
       "3                             51.92                         0.496       0.162   \n",
       "4                             52.24                         0.531       0.236   \n",
       "\n",
       "   Perceptions of corruption  Positive affect  Negative affect  \n",
       "0                      0.882            0.518            0.258  \n",
       "1                      0.850            0.584            0.237  \n",
       "2                      0.707            0.618            0.275  \n",
       "3                      0.731            0.611            0.267  \n",
       "4                      0.776            0.710            0.268  "
      ],
      "text/html": "<div>\n<style scoped>\n    .dataframe tbody tr th:only-of-type {\n        vertical-align: middle;\n    }\n\n    .dataframe tbody tr th {\n        vertical-align: top;\n    }\n\n    .dataframe thead th {\n        text-align: right;\n    }\n</style>\n<table border=\"1\" class=\"dataframe\">\n  <thead>\n    <tr style=\"text-align: right;\">\n      <th></th>\n      <th>Country name</th>\n      <th>year</th>\n      <th>Life Ladder</th>\n      <th>Log GDP per capita</th>\n      <th>Social support</th>\n      <th>Healthy life expectancy at birth</th>\n      <th>Freedom to make life choices</th>\n      <th>Generosity</th>\n      <th>Perceptions of corruption</th>\n      <th>Positive affect</th>\n      <th>Negative affect</th>\n    </tr>\n  </thead>\n  <tbody>\n    <tr>\n      <th>0</th>\n      <td>Afghanistan</td>\n      <td>2008</td>\n      <td>3.724</td>\n      <td>7.370</td>\n      <td>0.451</td>\n      <td>50.80</td>\n      <td>0.718</td>\n      <td>0.168</td>\n      <td>0.882</td>\n      <td>0.518</td>\n      <td>0.258</td>\n    </tr>\n    <tr>\n      <th>1</th>\n      <td>Afghanistan</td>\n      <td>2009</td>\n      <td>4.402</td>\n      <td>7.540</td>\n      <td>0.552</td>\n      <td>51.20</td>\n      <td>0.679</td>\n      <td>0.190</td>\n      <td>0.850</td>\n      <td>0.584</td>\n      <td>0.237</td>\n    </tr>\n    <tr>\n      <th>2</th>\n      <td>Afghanistan</td>\n      <td>2010</td>\n      <td>4.758</td>\n      <td>7.647</td>\n      <td>0.539</td>\n      <td>51.60</td>\n      <td>0.600</td>\n      <td>0.121</td>\n      <td>0.707</td>\n      <td>0.618</td>\n      <td>0.275</td>\n    </tr>\n    <tr>\n      <th>3</th>\n      <td>Afghanistan</td>\n      <td>2011</td>\n      <td>3.832</td>\n      <td>7.620</td>\n      <td>0.521</td>\n      <td>51.92</td>\n      <td>0.496</td>\n      <td>0.162</td>\n      <td>0.731</td>\n      <td>0.611</td>\n      <td>0.267</td>\n    </tr>\n    <tr>\n      <th>4</th>\n      <td>Afghanistan</td>\n      <td>2012</td>\n      <td>3.783</td>\n      <td>7.705</td>\n      <td>0.521</td>\n      <td>52.24</td>\n      <td>0.531</td>\n      <td>0.236</td>\n      <td>0.776</td>\n      <td>0.710</td>\n      <td>0.268</td>\n    </tr>\n  </tbody>\n</table>\n</div>"
     },
     "metadata": {},
     "execution_count": 9
    }
   ],
   "source": [
    "world_report_file = \"Resources/world-happiness-report.csv\"\n",
    "world_report_df = pd.read_csv(world_report_file)\n",
    "world_report_df.head()\n",
    "#Filter by US only\n",
    "#Filter just 2020 and 2021\n"
   ]
  },
  {
   "source": [
    "### Create new data with select columns"
   ],
   "cell_type": "markdown",
   "metadata": {}
  },
  {
   "cell_type": "code",
   "execution_count": 53,
   "metadata": {},
   "outputs": [
    {
     "output_type": "execute_result",
     "data": {
      "text/plain": [
       "         location  total_cases  total_deaths\n",
       "year                                        \n",
       "2020  Afghanistan          1.0           0.0\n",
       "2020  Afghanistan          1.0           0.0\n",
       "2020  Afghanistan          1.0           0.0\n",
       "2020  Afghanistan          1.0           0.0\n",
       "2020  Afghanistan          1.0           0.0\n",
       "...           ...          ...           ...\n",
       "2021     Zimbabwe      38918.0        1592.0\n",
       "2021     Zimbabwe      38933.0        1594.0\n",
       "2021     Zimbabwe      38944.0        1594.0\n",
       "2021     Zimbabwe      38961.0        1594.0\n",
       "2021     Zimbabwe      38998.0        1599.0\n",
       "\n",
       "[89962 rows x 3 columns]"
      ],
      "text/html": "<div>\n<style scoped>\n    .dataframe tbody tr th:only-of-type {\n        vertical-align: middle;\n    }\n\n    .dataframe tbody tr th {\n        vertical-align: top;\n    }\n\n    .dataframe thead th {\n        text-align: right;\n    }\n</style>\n<table border=\"1\" class=\"dataframe\">\n  <thead>\n    <tr style=\"text-align: right;\">\n      <th></th>\n      <th>location</th>\n      <th>total_cases</th>\n      <th>total_deaths</th>\n    </tr>\n    <tr>\n      <th>year</th>\n      <th></th>\n      <th></th>\n      <th></th>\n    </tr>\n  </thead>\n  <tbody>\n    <tr>\n      <th>2020</th>\n      <td>Afghanistan</td>\n      <td>1.0</td>\n      <td>0.0</td>\n    </tr>\n    <tr>\n      <th>2020</th>\n      <td>Afghanistan</td>\n      <td>1.0</td>\n      <td>0.0</td>\n    </tr>\n    <tr>\n      <th>2020</th>\n      <td>Afghanistan</td>\n      <td>1.0</td>\n      <td>0.0</td>\n    </tr>\n    <tr>\n      <th>2020</th>\n      <td>Afghanistan</td>\n      <td>1.0</td>\n      <td>0.0</td>\n    </tr>\n    <tr>\n      <th>2020</th>\n      <td>Afghanistan</td>\n      <td>1.0</td>\n      <td>0.0</td>\n    </tr>\n    <tr>\n      <th>...</th>\n      <td>...</td>\n      <td>...</td>\n      <td>...</td>\n    </tr>\n    <tr>\n      <th>2021</th>\n      <td>Zimbabwe</td>\n      <td>38918.0</td>\n      <td>1592.0</td>\n    </tr>\n    <tr>\n      <th>2021</th>\n      <td>Zimbabwe</td>\n      <td>38933.0</td>\n      <td>1594.0</td>\n    </tr>\n    <tr>\n      <th>2021</th>\n      <td>Zimbabwe</td>\n      <td>38944.0</td>\n      <td>1594.0</td>\n    </tr>\n    <tr>\n      <th>2021</th>\n      <td>Zimbabwe</td>\n      <td>38961.0</td>\n      <td>1594.0</td>\n    </tr>\n    <tr>\n      <th>2021</th>\n      <td>Zimbabwe</td>\n      <td>38998.0</td>\n      <td>1599.0</td>\n    </tr>\n  </tbody>\n</table>\n<p>89962 rows × 3 columns</p>\n</div>"
     },
     "metadata": {},
     "execution_count": 53
    }
   ],
   "source": [
    "\n",
    "new_full_data_df = full_data_df[['location','total_cases','total_deaths']].copy()\n",
    "new_full_data_df.loc[(new_full_data_df.location == 'United States')]\n",
    "#new_full_data_df['year'] = new_full_data_df['date'].dt.year\n",
    "new_full_data_df = new_full_data_df.fillna(0)\n",
    "new_full_data_df['year'] = pd.DatetimeIndex(full_data_df['date']).year\n",
    "new_full_data_df.set_index('year', inplace=True)\n",
    "new_full_data_df.head(None)\n",
    "\n"
   ]
  },
  {
   "cell_type": "code",
   "execution_count": 22,
   "metadata": {},
   "outputs": [
    {
     "output_type": "execute_result",
     "data": {
      "text/plain": [
       "          Country  life_expectency  life_freedom  corruption_perception\n",
       "year                                                                   \n",
       "2021      Finland           72.000         0.949                  0.186\n",
       "2021      Denmark           72.700         0.946                  0.179\n",
       "2021  Switzerland           74.400         0.919                  0.292\n",
       "2021      Iceland           73.000         0.955                  0.673\n",
       "2021  Netherlands           72.400         0.913                  0.338\n",
       "...           ...              ...           ...                    ...\n",
       "2021      Lesotho           48.700         0.715                  0.915\n",
       "2021     Botswana           59.269         0.824                  0.801\n",
       "2021       Rwanda           61.400         0.897                  0.167\n",
       "2021     Zimbabwe           56.201         0.677                  0.821\n",
       "2021  Afghanistan           52.493         0.382                  0.924\n",
       "\n",
       "[149 rows x 4 columns]"
      ],
      "text/html": "<div>\n<style scoped>\n    .dataframe tbody tr th:only-of-type {\n        vertical-align: middle;\n    }\n\n    .dataframe tbody tr th {\n        vertical-align: top;\n    }\n\n    .dataframe thead th {\n        text-align: right;\n    }\n</style>\n<table border=\"1\" class=\"dataframe\">\n  <thead>\n    <tr style=\"text-align: right;\">\n      <th></th>\n      <th>Country</th>\n      <th>life_expectency</th>\n      <th>life_freedom</th>\n      <th>corruption_perception</th>\n    </tr>\n    <tr>\n      <th>year</th>\n      <th></th>\n      <th></th>\n      <th></th>\n      <th></th>\n    </tr>\n  </thead>\n  <tbody>\n    <tr>\n      <th>2021</th>\n      <td>Finland</td>\n      <td>72.000</td>\n      <td>0.949</td>\n      <td>0.186</td>\n    </tr>\n    <tr>\n      <th>2021</th>\n      <td>Denmark</td>\n      <td>72.700</td>\n      <td>0.946</td>\n      <td>0.179</td>\n    </tr>\n    <tr>\n      <th>2021</th>\n      <td>Switzerland</td>\n      <td>74.400</td>\n      <td>0.919</td>\n      <td>0.292</td>\n    </tr>\n    <tr>\n      <th>2021</th>\n      <td>Iceland</td>\n      <td>73.000</td>\n      <td>0.955</td>\n      <td>0.673</td>\n    </tr>\n    <tr>\n      <th>2021</th>\n      <td>Netherlands</td>\n      <td>72.400</td>\n      <td>0.913</td>\n      <td>0.338</td>\n    </tr>\n    <tr>\n      <th>...</th>\n      <td>...</td>\n      <td>...</td>\n      <td>...</td>\n      <td>...</td>\n    </tr>\n    <tr>\n      <th>2021</th>\n      <td>Lesotho</td>\n      <td>48.700</td>\n      <td>0.715</td>\n      <td>0.915</td>\n    </tr>\n    <tr>\n      <th>2021</th>\n      <td>Botswana</td>\n      <td>59.269</td>\n      <td>0.824</td>\n      <td>0.801</td>\n    </tr>\n    <tr>\n      <th>2021</th>\n      <td>Rwanda</td>\n      <td>61.400</td>\n      <td>0.897</td>\n      <td>0.167</td>\n    </tr>\n    <tr>\n      <th>2021</th>\n      <td>Zimbabwe</td>\n      <td>56.201</td>\n      <td>0.677</td>\n      <td>0.821</td>\n    </tr>\n    <tr>\n      <th>2021</th>\n      <td>Afghanistan</td>\n      <td>52.493</td>\n      <td>0.382</td>\n      <td>0.924</td>\n    </tr>\n  </tbody>\n</table>\n<p>149 rows × 4 columns</p>\n</div>"
     },
     "metadata": {},
     "execution_count": 22
    }
   ],
   "source": [
    "world_2021_cols = ['Country name', 'Healthy life expectancy', 'Freedom to make life choices', 'Perceptions of corruption']\n",
    "transformed_2021 = world_2021_df[world_2021_cols].copy()\n",
    "\n",
    "transformed_2021 = transformed_2021.rename(columns={'Country name': 'Country','Healthy life expectancy': 'life_expectency',\n",
    "    'Freedom to make life choices': 'life_freedom',\n",
    "    'Perceptions of corruption': 'corruption_perception'})\n",
    "transformed_2021['year'] = 2021\n",
    "transformed_2021.set_index('year', inplace=True)\n",
    "transformed_2021.head(None)"
   ]
  },
  {
   "cell_type": "code",
   "execution_count": null,
   "metadata": {},
   "outputs": [],
   "source": []
  },
  {
   "source": [
    "### Clean Dates"
   ],
   "cell_type": "markdown",
   "metadata": {}
  },
  {
   "cell_type": "code",
   "execution_count": null,
   "metadata": {},
   "outputs": [],
   "source": [
    "new_full_data_df = new_full_data_df['total_deaths'].fillna(0)"
   ]
  }
 ]
}